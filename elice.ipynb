{
 "cells": [
  {
   "cell_type": "code",
   "execution_count": 7,
   "metadata": {},
   "outputs": [],
   "source": [
    "people = ['펭수', '뽀로로', '뚝딱이', '텔레토비']\n",
    "def fun1_with_enu(line):\n",
    "    new_lines = []\n",
    "    for i,val in enumerate(line):\n",
    "        print('대기번호 %d번 : %s' %(i+1, val))\n",
    "        new_lines.append((i+1, val))\n",
    "    return new_lines"
   ]
  },
  {
   "cell_type": "code",
   "execution_count": 8,
   "metadata": {},
   "outputs": [
    {
     "name": "stdout",
     "output_type": "stream",
     "text": [
      "대기번호 1번 : 펭수\n",
      "대기번호 2번 : 뽀로로\n",
      "대기번호 3번 : 뚝딱이\n",
      "대기번호 4번 : 텔레토비\n"
     ]
    },
    {
     "data": {
      "text/plain": "[(1, '펭수'), (2, '뽀로로'), (3, '뚝딱이'), (4, '텔레토비')]"
     },
     "execution_count": 8,
     "metadata": {},
     "output_type": "execute_result"
    }
   ],
   "source": [
    "fun1_with_enu(people)"
   ]
  },
  {
   "cell_type": "code",
   "execution_count": 11,
   "metadata": {},
   "outputs": [
    {
     "name": "stdout",
     "output_type": "stream",
     "text": [
      "('a', '가')\n",
      "('b', '나')\n",
      "('c', '다')\n"
     ]
    }
   ],
   "source": [
    "list_3 = ['a', 'b', 'c']\n",
    "list_4 = ['가', '나', '다']\n",
    "\n",
    "for i in zip(list_3, list_4):\n",
    "    print(i)"
   ]
  },
  {
   "cell_type": "code",
   "execution_count": 13,
   "metadata": {},
   "outputs": [
    {
     "data": {
      "text/plain": "4"
     },
     "execution_count": 13,
     "metadata": {},
     "output_type": "execute_result"
    }
   ],
   "source": [
    "lambda x:x+2\n",
    "func2 = lambda x: x+2\n",
    "c = func2(2)\n",
    "c"
   ]
  },
  {
   "cell_type": "code",
   "execution_count": 14,
   "metadata": {},
   "outputs": [],
   "source": [
    "items = [1,2,3,4,5]\n",
    "squared = []\n",
    "for i in items:\n",
    "    squared.append(i*i)"
   ]
  },
  {
   "cell_type": "code",
   "execution_count": 15,
   "metadata": {},
   "outputs": [
    {
     "name": "stdout",
     "output_type": "stream",
     "text": [
      "[1, 4, 9, 16, 25]\n"
     ]
    }
   ],
   "source": [
    "print(squared)"
   ]
  },
  {
   "cell_type": "code",
   "execution_count": 16,
   "metadata": {},
   "outputs": [
    {
     "name": "stdout",
     "output_type": "stream",
     "text": [
      "[1, 4, 9, 16, 25]\n"
     ]
    }
   ],
   "source": [
    "squared_map = list(map(lambda x:x**2, items))\n",
    "print(squared)"
   ]
  },
  {
   "cell_type": "code",
   "execution_count": 18,
   "metadata": {},
   "outputs": [
    {
     "name": "stdout",
     "output_type": "stream",
     "text": [
      "['1', '24', '3', '6', '7']\n"
     ]
    }
   ],
   "source": [
    "items = [1, 24, 3, 6, 7]\n",
    "func_3 = lambda x:str(x)\n",
    "str_items = list(map(func_3, items))\n",
    "print(str_items)\n"
   ]
  },
  {
   "cell_type": "code",
   "execution_count": 21,
   "metadata": {},
   "outputs": [
    {
     "name": "stdout",
     "output_type": "stream",
     "text": [
      "[1, 4, 9, 16, 25, 36, 49, 64, 81, 100]\n"
     ]
    }
   ],
   "source": [
    "num_list= [1,2,3,4,5,6,7,8,9,10]\n",
    "\n",
    "square = list(map(lambda x : x**2, num_list))\n",
    "print(square)"
   ]
  },
  {
   "cell_type": "code",
   "execution_count": 23,
   "metadata": {},
   "outputs": [
    {
     "name": "stdout",
     "output_type": "stream",
     "text": [
      "[0, 1, 2, 3, 4, 5, 6, 7, 8, 9]\n"
     ]
    }
   ],
   "source": [
    "list_2 = []\n",
    "for x in range(10):\n",
    "    list_2.append(x)\n",
    "print(list_2)"
   ]
  },
  {
   "cell_type": "code",
   "execution_count": 24,
   "metadata": {},
   "outputs": [
    {
     "data": {
      "text/plain": "[0, 1, 2, 3, 4, 5, 6, 7, 8, 9]"
     },
     "execution_count": 24,
     "metadata": {},
     "output_type": "execute_result"
    }
   ],
   "source": [
    "lc_1 = [x for x in range(10)]\n",
    "lc_1"
   ]
  },
  {
   "cell_type": "code",
   "execution_count": 27,
   "metadata": {},
   "outputs": [
    {
     "name": "stdout",
     "output_type": "stream",
     "text": [
      "[2, 4, 6, 8, 10, 12, 14, 16, 18, 20]\n"
     ]
    }
   ],
   "source": [
    "list_n = [x for x in range(1, 11)]\n",
    "sq_2 = list(map(lambda x : x*2, list_n))\n",
    "print (sq_2)"
   ]
  },
  {
   "cell_type": "code",
   "execution_count": 31,
   "metadata": {},
   "outputs": [
    {
     "name": "stdout",
     "output_type": "stream",
     "text": [
      "[3, 5, 4, 2, 3, 5, 6, 4, 2, 4, 7]\n"
     ]
    }
   ],
   "source": [
    "st = '코로나 바이러스를 예방하기 위해 사회적 거리두기를 실천합시다. 마스크를 끼고 손씻기를 생활화합시다.'\n",
    "st.split()\n",
    "len_sent = [len(s) for s in st.split()]\n",
    "print(len_sent)\n",
    "  "
   ]
  },
  {
   "cell_type": "code",
   "execution_count": null,
   "metadata": {},
   "outputs": [],
   "source": [
    "lc_2 = [x for x in range(10,21) if x%2==0]\n",
    "lc_2"
   ]
  },
  {
   "cell_type": "code",
   "execution_count": 32,
   "metadata": {},
   "outputs": [],
   "source": [
    "lily = [x**2 for x in range(1, 11) if x**2<50]"
   ]
  },
  {
   "cell_type": "code",
   "execution_count": 35,
   "metadata": {},
   "outputs": [
    {
     "data": {
      "text/plain": "[17, 41, 37, 41, 24, 41, 34, 41]"
     },
     "execution_count": 35,
     "metadata": {},
     "output_type": "execute_result"
    }
   ],
   "source": [
    "list_6 = [12, 67,32,48,19,57,29,49]\n",
    "\n",
    "lc_6 = [x+5 if x<=40 else 41 for x in list_6]\n",
    "lc_6"
   ]
  },
  {
   "cell_type": "code",
   "execution_count": 56,
   "metadata": {},
   "outputs": [
    {
     "name": "stdout",
     "output_type": "stream",
     "text": [
      "보라돌이\n",
      "뚜비\n",
      "나나\n",
      "뽀\n",
      "[('보라돌이', True), ('뚜비', False), ('나나', True), ('뽀', True)]\n"
     ]
    }
   ],
   "source": [
    "students = {\n",
    "    \"보라돌이\" : 61,\n",
    "    \"뚜비\" : 35,\n",
    "    \"나나\" : 78,\n",
    "    \"뽀\" : 88\n",
    "}\n",
    "for x in students :\n",
    "    print(x)\n",
    "\n",
    "students.items()\n",
    "results = [(name, True) if score>=60 else (name, False) for name,score in students.items()]\n",
    "print(results)"
   ]
  }
 ],
 "metadata": {
  "kernelspec": {
   "display_name": "Python 3.9.5 64-bit",
   "name": "python395jvsc74a57bd07812ea015bdcee6f23a998adcdd2ef97c151c0c241b7b7070987d9313e41299d"
  },
  "language_info": {
   "codemirror_mode": {
    "name": "ipython",
    "version": 3
   },
   "file_extension": ".py",
   "mimetype": "text/x-python",
   "name": "python",
   "nbconvert_exporter": "python",
   "pygments_lexer": "ipython3",
   "version": "3.9.5"
  },
  "metadata": {
   "interpreter": {
    "hash": "7812ea015bdcee6f23a998adcdd2ef97c151c0c241b7b7070987d9313e41299d"
   }
  },
  "orig_nbformat": 2
 },
 "nbformat": 4,
 "nbformat_minor": 2
}